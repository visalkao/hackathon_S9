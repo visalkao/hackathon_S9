{
 "cells": [
  {
   "cell_type": "code",
   "execution_count": null,
   "metadata": {},
   "outputs": [],
   "source": [
    "import pandas as pd\n",
    "\n",
    "start_time = '07:00:00' # From 7am\n",
    "end_time = '19:00:00' # To 7pm\n",
    "df = pd.DataFrame()\n",
    "df['time'] = pd.date_range(start=start_time, end=end_time, freq='s' ) # One prediction per second\n",
    "df['time'] = df['time'].dt.time\n",
    "df['activity'] = 'none' # Most frequent label: 'none'\n",
    "print(df)"
   ]
  },
  {
   "cell_type": "code",
   "execution_count": null,
   "metadata": {},
   "outputs": [],
   "source": [
    "filepath = 'filepath/dummy_submission.csv'\n",
    "df.to_csv(filepath,index=False)"
   ]
  }
 ],
 "metadata": {
  "language_info": {
   "name": "python"
  }
 },
 "nbformat": 4,
 "nbformat_minor": 2
}
