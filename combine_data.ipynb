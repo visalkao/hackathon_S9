{
 "cells": [
  {
   "cell_type": "code",
   "execution_count": 9,
   "metadata": {},
   "outputs": [],
   "source": [
    "import csv\n",
    "import pandas as pd \n",
    "\n",
    "\n",
    "left = pd.read_csv(\"dataset_left.csv\", index_col=\"timestamp\")\n",
    "right = pd.read_csv(\"dataset_right.csv\", index_col=\"timestamp\")\n",
    "\n",
    "# left = left.loc[2:, :]\n",
    "# left\n",
    "\n",
    "\n",
    "\n",
    "full_data = pd.merge(left, right, how='outer', left_index=True, right_index=True)\n",
    "# full_data = full_data.iloc[2:, :]\n",
    "# full_data.to_csv(\"full_dataset_no_label.csv\")"
   ]
  },
  {
   "cell_type": "code",
   "execution_count": 14,
   "metadata": {},
   "outputs": [],
   "source": [
    "label = pd.read_csv(\"dataActivityPerSecond.csv\")\n",
    "full_data[\"label\"] = label[\"Activity\"]\n",
    "# label = label.iloc[2:, :]\n",
    "# full_data = pd.merge(label, full_data, how='outer', left_index=True, right_index=True)\n",
    "# full_data = full_data.iloc[2:, :]\n",
    "# full_data.to_csv(\"full_dataset_no_label.csv\")\n",
    "# full_data.to_csv(\"test.csv\")\n",
    "# label"
   ]
  },
  {
   "cell_type": "code",
   "execution_count": null,
   "metadata": {},
   "outputs": [],
   "source": []
  }
 ],
 "metadata": {
  "kernelspec": {
   "display_name": "2IA_ML_ADVANCED",
   "language": "python",
   "name": "python3"
  },
  "language_info": {
   "codemirror_mode": {
    "name": "ipython",
    "version": 3
   },
   "file_extension": ".py",
   "mimetype": "text/x-python",
   "name": "python",
   "nbconvert_exporter": "python",
   "pygments_lexer": "ipython3",
   "version": "3.12.5"
  }
 },
 "nbformat": 4,
 "nbformat_minor": 2
}
