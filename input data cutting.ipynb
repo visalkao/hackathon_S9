{
 "cells": [
  {
   "cell_type": "code",
   "execution_count": 7,
   "metadata": {},
   "outputs": [],
   "source": [
    "import pandas as pd\n",
    "from datetime import timedelta"
   ]
  },
  {
   "cell_type": "code",
   "execution_count": 2,
   "metadata": {},
   "outputs": [],
   "source": [
    "periods = [\n",
    "    {'start': '2024-07-19 20:05:00', 'end': '2024-07-19 20:12:00', 'activity': 'S'},\n",
    "    {'start': '2024-07-19 20:38:00', 'end': '2024-07-19 21:05:00', 'activity': 'A'},\n",
    "    {'start': '2024-07-19 21:09:00', 'end': '2024-07-19 21:15:00', 'activity': 'P'},\n",
    "    {'start': '2024-07-20 08:05:00', 'end': '2024-07-20 08:15:00', 'activity': 'T'},\n",
    "    {'start': '2024-07-20 08:45:00', 'end': '2024-07-20 09:15:00', 'activity': 'A'},\n",
    "    {'start': '2024-07-20 09:15:00', 'end': '2024-07-20 10:00:00', 'activity': 'P'},\n",
    "    {'start': '2024-07-20 19:30:00', 'end': '2024-07-20 20:00:00', 'activity': 'T'},\n",
    "    {'start': '2024-07-20 20:00:00', 'end': '2024-07-20 21:40:00', 'activity': 'A'},\n",
    "    {'start': '2024-07-21 09:40:00', 'end': '2024-07-21 10:50:00', 'activity': 'A'},\n",
    "    {'start': '2024-07-21 13:28:00', 'end': '2024-07-21 13:48:00', 'activity': 'A'},\n",
    "    {'start': '2024-07-21 16:45:00', 'end': '2024-07-21 17:15:00', 'activity': 'M'},\n",
    "    {'start': '2024-07-21 17:16:00', 'end': '2024-07-21 17:30:00', 'activity': 'S'},\n",
    "    {'start': '2024-07-21 20:47:00', 'end': '2024-07-21 21:00:00', 'activity': 'A'},\n",
    "    {'start': '2024-07-21 21:01:00', 'end': '2024-07-21 21:05:00', 'activity': 'P'},\n",
    "    {'start': '2024-07-22 07:44:00', 'end': '2024-07-22 08:03:00', 'activity': 'A'},\n",
    "    {'start': '2024-07-22 13:35:00', 'end': '2024-07-22 14:24:00', 'activity': 'A'},\n",
    "    {'start': '2024-07-22 14:25:00', 'end': '2024-07-22 14:30:00', 'activity': 'P'},\n",
    "    {'start': '2024-07-23 07:15:00', 'end': '2024-07-23 07:20:00', 'activity': 'T'},\n",
    "    {'start': '2024-07-23 07:20:00', 'end': '2024-07-23 07:30:00', 'activity': 'S'},\n",
    "    {'start': '2024-07-23 07:40:00', 'end': '2024-07-23 08:15:00', 'activity': 'A'},\n",
    "    {'start': '2024-07-23 13:15:00', 'end': '2024-07-23 14:00:00', 'activity': 'A'},\n",
    "    {'start': '2024-07-24 07:36:00', 'end': '2024-07-24 07:41:00', 'activity': 'T'},\n",
    "    {'start': '2024-07-24 07:41:00', 'end': '2024-07-24 07:44:00', 'activity': 'S'},\n",
    "    {'start': '2024-07-24 07:45:00', 'end': '2024-07-24 08:18:00', 'activity': 'A'},\n",
    "    {'start': '2024-07-24 08:19:00', 'end': '2024-07-24 08:31:00', 'activity': 'P'},\n",
    "    {'start': '2024-07-24 16:40:00', 'end': '2024-07-24 18:10:00', 'activity': 'kiné'},\n",
    "    {'start': '2024-07-24 20:02:00', 'end': '2024-07-24 20:07:00', 'activity': 'P'},\n",
    "    {'start': '2024-07-24 20:07:00', 'end': '2024-07-24 20:39:00', 'activity': 'A'},\n",
    "    {'start': '2024-07-24 20:39:00', 'end': '2024-07-24 20:44:00', 'activity': 'P'}  \n",
    "]"
   ]
  },
  {
   "cell_type": "code",
   "execution_count": 3,
   "metadata": {},
   "outputs": [
    {
     "data": {
      "text/html": [
       "<div>\n",
       "<style scoped>\n",
       "    .dataframe tbody tr th:only-of-type {\n",
       "        vertical-align: middle;\n",
       "    }\n",
       "\n",
       "    .dataframe tbody tr th {\n",
       "        vertical-align: top;\n",
       "    }\n",
       "\n",
       "    .dataframe thead th {\n",
       "        text-align: right;\n",
       "    }\n",
       "</style>\n",
       "<table border=\"1\" class=\"dataframe\">\n",
       "  <thead>\n",
       "    <tr style=\"text-align: right;\">\n",
       "      <th></th>\n",
       "      <th>timestamp</th>\n",
       "      <th>displacement</th>\n",
       "    </tr>\n",
       "  </thead>\n",
       "  <tbody>\n",
       "    <tr>\n",
       "      <th>0</th>\n",
       "      <td>2024-07-19 20:00:05</td>\n",
       "      <td>273.536763</td>\n",
       "    </tr>\n",
       "    <tr>\n",
       "      <th>1</th>\n",
       "      <td>2024-07-19 20:00:06</td>\n",
       "      <td>272.046915</td>\n",
       "    </tr>\n",
       "    <tr>\n",
       "      <th>2</th>\n",
       "      <td>2024-07-19 20:00:07</td>\n",
       "      <td>274.070623</td>\n",
       "    </tr>\n",
       "    <tr>\n",
       "      <th>3</th>\n",
       "      <td>2024-07-19 20:00:08</td>\n",
       "      <td>271.232968</td>\n",
       "    </tr>\n",
       "    <tr>\n",
       "      <th>4</th>\n",
       "      <td>2024-07-19 20:00:09</td>\n",
       "      <td>270.861092</td>\n",
       "    </tr>\n",
       "  </tbody>\n",
       "</table>\n",
       "</div>"
      ],
      "text/plain": [
       "             timestamp  displacement\n",
       "0  2024-07-19 20:00:05    273.536763\n",
       "1  2024-07-19 20:00:06    272.046915\n",
       "2  2024-07-19 20:00:07    274.070623\n",
       "3  2024-07-19 20:00:08    271.232968\n",
       "4  2024-07-19 20:00:09    270.861092"
      ]
     },
     "execution_count": 3,
     "metadata": {},
     "output_type": "execute_result"
    }
   ],
   "source": [
    "right_hand_file = 'dataset_left.csv'\n",
    "\n",
    "acceleration_df = pd.read_csv(right_hand_file,delimiter=',')\n",
    "\n",
    "acceleration_df.head(5)"
   ]
  },
  {
   "cell_type": "code",
   "execution_count": 12,
   "metadata": {},
   "outputs": [],
   "source": [
    "for index,action in enumerate(periods):\n",
    "    begin = action['start']\n",
    "    end = action['end']\n",
    "\n",
    "    # Convert timestamp column to datetime\n",
    "    acceleration_df['timestamp'] = pd.to_datetime(acceleration_df['timestamp'])\n",
    "\n",
    "    # Convert begin and end to datetime\n",
    "    begin_datetime = pd.to_datetime(begin) - timedelta(minutes=10)\n",
    "    end_datetime = pd.to_datetime(end) + timedelta(minutes=10)\n",
    "\n",
    "    # Slice dataframe\n",
    "    filtered_df = acceleration_df[(acceleration_df['timestamp'] >= begin_datetime) & \n",
    "                                (acceleration_df['timestamp'] <= end_datetime)]\n",
    "\n",
    "    filtered_df.to_csv(f'events frames/{index}.csv')"
   ]
  }
 ],
 "metadata": {
  "kernelspec": {
   "display_name": "base",
   "language": "python",
   "name": "python3"
  },
  "language_info": {
   "codemirror_mode": {
    "name": "ipython",
    "version": 3
   },
   "file_extension": ".py",
   "mimetype": "text/x-python",
   "name": "python",
   "nbconvert_exporter": "python",
   "pygments_lexer": "ipython3",
   "version": "3.11.5"
  }
 },
 "nbformat": 4,
 "nbformat_minor": 2
}
