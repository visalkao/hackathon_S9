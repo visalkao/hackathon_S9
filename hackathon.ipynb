{
 "cells": [
  {
   "cell_type": "markdown",
   "id": "fc8632e5-20cb-40cb-a7ca-ca8a75961d81",
   "metadata": {},
   "source": [
    "### TP : HACKATHON TEAM 7"
   ]
  },
  {
   "cell_type": "code",
   "execution_count": 1,
   "id": "9031d38a-f687-4068-8c02-9f204b8732a3",
   "metadata": {},
   "outputs": [
    {
     "name": "stdout",
     "output_type": "stream",
     "text": [
      "           Date    X    Y    Z\n",
      "0  1.721419e+09  -36  284 -232\n",
      "1  1.721419e+09 -224  -92  -60\n",
      "2  1.721419e+09 -236  -96  -64\n",
      "3  1.721419e+09 -240  -96  -72\n",
      "4  1.721419e+09 -252 -108  -80\n",
      "           Date    X    Y   Z\n",
      "0  1.721419e+09  112  232 -96\n",
      "1  1.721419e+09 -240   20  56\n",
      "2  1.721419e+09 -248   20  60\n",
      "3  1.721419e+09 -248   20  56\n",
      "4  1.721419e+09 -252   20  60\n"
     ]
    }
   ],
   "source": [
    "import csv\n",
    "import pandas as pd\n",
    "import numpy as np\n",
    "\n",
    "dataL = pd.read_csv(\"/Users/ludo/Desktop/2ia-2024-hackathon/left_accs.csv\", sep=\",\", header=None)\n",
    "dataL.columns=['Date','X','Y','Z']\n",
    "dataR = pd.read_csv(\"/Users/ludo/Desktop/2ia-2024-hackathon/right_accs.csv\", sep=\",\", header=None)\n",
    "dataR.columns=['Date','X','Y','Z']\n",
    "print(dataL.head(5))\n",
    "print(dataR.head(5))"
   ]
  },
  {
   "cell_type": "code",
   "execution_count": 2,
   "id": "422140b2-251a-4ee7-b5d6-8dc67ff74d4f",
   "metadata": {},
   "outputs": [
    {
     "name": "stderr",
     "output_type": "stream",
     "text": [
      "/var/folders/g8/sp7v241j7198blzszj9tq0x40000gn/T/ipykernel_5182/1351229751.py:5: DeprecationWarning: datetime.datetime.utcfromtimestamp() is deprecated and scheduled for removal in a future version. Use timezone-aware objects to represent datetimes in UTC: datetime.datetime.fromtimestamp(timestamp, datetime.UTC).\n",
      "  lambda x: datetime.datetime.utcfromtimestamp(x).strftime('%Y-%m-%d %H:%M:%S')\n",
      "/var/folders/g8/sp7v241j7198blzszj9tq0x40000gn/T/ipykernel_5182/1351229751.py:9: DeprecationWarning: datetime.datetime.utcfromtimestamp() is deprecated and scheduled for removal in a future version. Use timezone-aware objects to represent datetimes in UTC: datetime.datetime.fromtimestamp(timestamp, datetime.UTC).\n",
      "  lambda x: datetime.datetime.utcfromtimestamp(x).strftime('%Y-%m-%d %H:%M:%S')\n"
     ]
    }
   ],
   "source": [
    "import datetime\n",
    "import pytz\n",
    "\n",
    "dataL['Date'] = dataL['Date'].apply(\n",
    "    lambda x: datetime.datetime.utcfromtimestamp(x).strftime('%Y-%m-%d %H:%M:%S')\n",
    ")\n",
    "\n",
    "dataR['Date'] = dataR['Date'].apply(\n",
    "    lambda x: datetime.datetime.utcfromtimestamp(x).strftime('%Y-%m-%d %H:%M:%S')\n",
    ")"
   ]
  },
  {
   "cell_type": "code",
   "execution_count": 3,
   "id": "6abd25f9-c37d-44b2-bf46-83276c338539",
   "metadata": {},
   "outputs": [
    {
     "name": "stdout",
     "output_type": "stream",
     "text": [
      "                  Date    X    Y    Z\n",
      "0  2024-07-19 20:00:05  -36  284 -232\n",
      "1  2024-07-19 20:00:05 -224  -92  -60\n",
      "2  2024-07-19 20:00:05 -236  -96  -64\n",
      "3  2024-07-19 20:00:05 -240  -96  -72\n",
      "4  2024-07-19 20:00:05 -252 -108  -80\n",
      "                  Date    X    Y   Z\n",
      "0  2024-07-19 20:00:07  112  232 -96\n",
      "1  2024-07-19 20:00:07 -240   20  56\n",
      "2  2024-07-19 20:00:07 -248   20  60\n",
      "3  2024-07-19 20:00:07 -248   20  56\n",
      "4  2024-07-19 20:00:07 -252   20  60\n"
     ]
    }
   ],
   "source": [
    "print(dataL.head(5))\n",
    "print(dataR.head(5))"
   ]
  },
  {
   "cell_type": "markdown",
   "id": "0e0c5ef9-0202-4881-b6b7-1c054d075829",
   "metadata": {},
   "source": [
    "### I - Création du fichier csv des activités"
   ]
  },
  {
   "cell_type": "code",
   "execution_count": 5,
   "id": "b47aa3b5-8c48-471f-88cb-4081b028a286",
   "metadata": {},
   "outputs": [],
   "source": [
    "dataA=dataL.copy()\n",
    "print(dataA.head(5))\n",
    "\n",
    "dataA=dataA.drop(columns=['X','Y','Z'])\n",
    "\n",
    "dataA['Activity']='none'\n",
    "print(dataA.head(5))\n",
    "\n",
    "# Liste des périodes et leurs activités associées\n",
    "periods = [\n",
    "    {'start': '2024-07-19 20:05:00', 'end': '2024-07-19 20:12:00', 'activity': 'S'},\n",
    "    {'start': '2024-07-19 20:38:00', 'end': '2024-07-19 21:05:00', 'activity': 'A'},\n",
    "    {'start': '2024-07-19 21:09:00', 'end': '2024-07-19 21:15:00', 'activity': 'P'},\n",
    "    {'start': '2024-07-20 08:05:00', 'end': '2024-07-20 08:15:00', 'activity': 'T'},\n",
    "    {'start': '2024-07-20 08:45:00', 'end': '2024-07-20 09:15:00', 'activity': 'A'},\n",
    "    {'start': '2024-07-20 09:15:00', 'end': '2024-07-20 10:00:00', 'activity': 'P'},\n",
    "    {'start': '2024-07-20 19:30:00', 'end': '2024-07-20 20:00:00', 'activity': 'T'},\n",
    "    {'start': '2024-07-20 20:00:00', 'end': '2024-07-20 21:40:00', 'activity': 'A'},\n",
    "    {'start': '2024-07-21 09:40:00', 'end': '2024-07-21 10:50:00', 'activity': 'A'},\n",
    "    {'start': '2024-07-21 13:28:00', 'end': '2024-07-21 13:48:00', 'activity': 'A'},\n",
    "    {'start': '2024-07-21 16:45:00', 'end': '2024-07-21 17:15:00', 'activity': 'M'},\n",
    "    {'start': '2024-07-21 17:16:00', 'end': '2024-07-21 17:30:00', 'activity': 'S'},\n",
    "    {'start': '2024-07-21 20:47:00', 'end': '2024-07-21 21:00:00', 'activity': 'A'},\n",
    "    {'start': '2024-07-21 21:01:00', 'end': '2024-07-21 21:05:00', 'activity': 'P'},\n",
    "    {'start': '2024-07-22 07:44:00', 'end': '2024-07-22 08:03:00', 'activity': 'A'},\n",
    "    {'start': '2024-07-22 13:35:00', 'end': '2024-07-22 14:24:00', 'activity': 'A'},\n",
    "    {'start': '2024-07-22 14:25:00', 'end': '2024-07-22 14:30:00', 'activity': 'P'},\n",
    "    {'start': '2024-07-23 07:15:00', 'end': '2024-07-23 07:20:00', 'activity': 'T'},\n",
    "    {'start': '2024-07-23 07:20:00', 'end': '2024-07-23 07:30:00', 'activity': 'S'},\n",
    "    {'start': '2024-07-23 07:40:00', 'end': '2024-07-23 08:15:00', 'activity': 'A'},\n",
    "    {'start': '2024-07-23 13:15:00', 'end': '2024-07-23 14:00:00', 'activity': 'A'},\n",
    "    {'start': '2024-07-24 07:36:00', 'end': '2024-07-24 07:41:00', 'activity': 'T'},\n",
    "    {'start': '2024-07-24 07:41:00', 'end': '2024-07-24 07:44:00', 'activity': 'S'},\n",
    "    {'start': '2024-07-24 07:45:00', 'end': '2024-07-24 08:18:00', 'activity': 'A'},\n",
    "    {'start': '2024-07-24 08:19:00', 'end': '2024-07-24 08:31:00', 'activity': 'P'},\n",
    "    {'start': '2024-07-24 16:40:00', 'end': '2024-07-24 18:10:00', 'activity': 'kiné'},\n",
    "    {'start': '2024-07-24 20:02:00', 'end': '2024-07-24 20:07:00', 'activity': 'P'},\n",
    "    {'start': '2024-07-24 20:07:00', 'end': '2024-07-24 20:39:00', 'activity': 'A'},\n",
    "    {'start': '2024-07-24 20:39:00', 'end': '2024-07-24 20:44:00', 'activity': 'P'}  \n",
    "]\n",
    "\n",
    "\n",
    "# Appliquer les modifications\n",
    "for period in periods:\n",
    "    dataA.loc[(dataA['Date'] >= period['start']) & (dataA['Date'] <= period['end']), 'Activity'] = period['activity']\n",
    "\n",
    "dataA.to_csv('/Users/ludo/Desktop/2ia-2024-hackathon/dataActivity.csv',index=True)"
   ]
  },
  {
   "cell_type": "markdown",
   "id": "298a9b58-4bcc-4837-8bc7-e38fbcbcc467",
   "metadata": {},
   "source": [
    "### II - Conversion en 1 activité par seconde"
   ]
  },
  {
   "cell_type": "code",
   "execution_count": 9,
   "id": "183c53d1-bccc-41c2-9182-09b7239bf04f",
   "metadata": {},
   "outputs": [],
   "source": [
    "# Supprimer les doublons\n",
    "dataA = dataA.drop_duplicates(subset='Date', keep='first')\n",
    "\n",
    "dataA.set_index('Date', inplace=True)\n",
    "dataA.index = pd.to_datetime(dataA.index)\n",
    "dataA.to_csv('/Users/ludo/Desktop/2ia-2024-hackathon/dataActivityPerSecond.csv',index=False)"
   ]
  },
  {
   "cell_type": "markdown",
   "id": "3155ee45-bc1d-4ada-a3f5-a62fe48ded10",
   "metadata": {},
   "source": [
    "### III - Calcul de la norme de l'accélération du bras"
   ]
  },
  {
   "cell_type": "code",
   "execution_count": 12,
   "id": "3c0ed4e6-13e9-4d3f-9eb5-20fc5521c31a",
   "metadata": {},
   "outputs": [
    {
     "name": "stderr",
     "output_type": "stream",
     "text": [
      "/var/folders/g8/sp7v241j7198blzszj9tq0x40000gn/T/ipykernel_5182/678184503.py:10: FutureWarning: 'S' is deprecated and will be removed in a future version, please use 's' instead.\n",
      "  dataL_resampled = dataL.resample('1S').mean()\n",
      "/var/folders/g8/sp7v241j7198blzszj9tq0x40000gn/T/ipykernel_5182/678184503.py:11: FutureWarning: 'S' is deprecated and will be removed in a future version, please use 's' instead.\n",
      "  dataR_resampled = dataR.resample('1S').mean()\n"
     ]
    }
   ],
   "source": [
    "dataL['displacement'] = np.sqrt(dataL['X']**2 + dataL['Y']**2 + dataL['Z']**2)\n",
    "dataR['displacement'] = np.sqrt(dataR['X']**2 + dataR['Y']**2 + dataR['Z']**2)\n",
    "\n",
    "dataL.set_index('Date', inplace=True)\n",
    "dataR.set_index('Date', inplace=True)\n",
    "\n",
    "dataL.index = pd.to_datetime(dataL.index)\n",
    "dataR.index = pd.to_datetime(dataR.index)\n",
    "\n",
    "dataL_resampled = dataL.resample('1S').mean()\n",
    "dataR_resampled = dataR.resample('1S').mean()\n",
    "\n",
    "dataL_resampled.to_csv(\"/Users/ludo/Desktop/2ia-2024-hackathon/dataset_left.csv\")\n",
    "dataR_resampled.to_csv(\"/Users/ludo/Desktop/2ia-2024-hackathon/dataset_right.csv\")"
   ]
  },
  {
   "cell_type": "markdown",
   "id": "8b98b2c6-c0bc-4795-999d-8c8c965fe80a",
   "metadata": {},
   "source": [
    "### IV - Fusion de toutes les données dans un seul dataframe"
   ]
  },
  {
   "cell_type": "code",
   "execution_count": 14,
   "id": "da967ebe-81eb-4c3d-bb2c-d4a14ae16aa7",
   "metadata": {},
   "outputs": [
    {
     "name": "stdout",
     "output_type": "stream",
     "text": [
      "                              X           Y           Z  displacement\n",
      "Date                                                                 \n",
      "2024-07-19 20:00:07 -241.647059 -100.941176  -79.843137    274.070623\n",
      "2024-07-19 20:00:08 -245.200000  -86.320000  -76.240000    271.232968\n",
      "2024-07-19 20:00:09 -248.235294  -80.470588  -71.450980    270.861092\n",
      "2024-07-19 20:00:10 -250.480000  -89.280000  -25.840000    268.845230\n",
      "2024-07-19 20:00:11 -248.960000  -94.160000   -6.800000    266.708969\n",
      "...                         ...         ...         ...           ...\n",
      "2024-07-27 07:59:57   35.920000 -180.320000 -204.800000    275.228871\n",
      "2024-07-27 07:59:58   35.600000 -180.080000 -204.800000    275.030999\n",
      "2024-07-27 07:59:59   35.686275 -180.078431 -204.705882    274.970182\n",
      "2024-07-27 08:00:00   35.760000 -180.160000 -204.640000    274.983518\n",
      "2024-07-27 08:00:01   35.777778 -180.000000 -204.444444    274.734577\n",
      "\n",
      "[647995 rows x 4 columns]\n"
     ]
    }
   ],
   "source": [
    "dataL = dataL_resampled.iloc[2:]\n",
    "dataA = dataA.iloc[2:]\n",
    "dataR=dataR_resampled\n",
    "\n",
    "# Fusionner les données sur la colonne temporelle\n",
    "data = pd.merge(dataR, dataL, on='Date')\n",
    "data = pd.merge(data, dataA, on='Date')\n",
    "\n",
    "# Vérifier le résultat\n",
    "print(data.head())\n"
   ]
  },
  {
   "cell_type": "markdown",
   "id": "3365f863-c633-45e7-a58d-029049502ef6",
   "metadata": {},
   "source": [
    "### V - Régression linéaire avec propagation des activités"
   ]
  },
  {
   "cell_type": "code",
   "execution_count": 120,
   "id": "1ef7e27a-8dc2-452b-9c21-65d5d4cb5ca5",
   "metadata": {},
   "outputs": [
    {
     "name": "stdout",
     "output_type": "stream",
     "text": [
      "                                   time activity\n",
      "Date                                            \n",
      "2024-07-25 07:00:00 2024-07-25 07:00:00     none\n",
      "2024-07-25 07:00:01 2024-07-25 07:00:01     none\n",
      "2024-07-25 07:00:02 2024-07-25 07:00:02     none\n",
      "2024-07-25 07:00:03 2024-07-25 07:00:03     none\n",
      "2024-07-25 07:00:04 2024-07-25 07:00:04     none\n"
     ]
    }
   ],
   "source": [
    "from sklearn.model_selection import train_test_split\n",
    "from sklearn.preprocessing import LabelEncoder\n",
    "from sklearn.linear_model import LogisticRegression\n",
    "import pandas as pd\n",
    "\n",
    "# Assurez-vous que 'Date' est bien une colonne dans vos données et non un index\n",
    "data['Date'] = data.index\n",
    "\n",
    "# Filtrer les données d'entraînement entre 2024-07-19 20:07:00 et 2024-07-25 06:59:59\n",
    "train_data = data[(data['Date'] >= '2024-07-19 20:07:00') & (data['Date'] <= '2024-07-25 06:59:59')]\n",
    "\n",
    "# Séparer les variables explicatives (features) et la variable cible (target)\n",
    "X_train = train_data[['displacement_x', 'displacement_y']]\n",
    "y_train = train_data['Activity']\n",
    "\n",
    "# Initialiser l'encodeur\n",
    "label_encoder = LabelEncoder()\n",
    "\n",
    "# Encoder les activités\n",
    "y_encoded = label_encoder.fit_transform(y_train)\n",
    "\n",
    "# Créer le modèle de régression logistique\n",
    "model = LogisticRegression(max_iter=10000)  # Augmenter le nombre d'itérations si nécessaire\n",
    "\n",
    "# Entraîner le modèle\n",
    "model.fit(X_train, y_encoded)\n",
    "\n",
    "# Filtrer les données de test entre 2024-07-25 07:00:00 et 2024-07-25 19:00:00\n",
    "test_data = data[(data['Date'] >= '2024-07-25 07:00:00') & (data['Date'] <= '2024-07-25 19:00:00')]\n",
    "\n",
    "# Préparer les variables explicatives pour la prédiction\n",
    "X_test = test_data[['displacement_x', 'displacement_y']]\n",
    "\n",
    "# Faire les prédictions pour la plage de test\n",
    "y_test_pred = model.predict(X_test)\n",
    "\n",
    "# Convertir les prédictions en labels d'activité\n",
    "y_test_pred_labels = label_encoder.inverse_transform(y_test_pred)\n",
    "\n",
    "# Générer un DataFrame avec les prédictions\n",
    "predictions = pd.DataFrame({\n",
    "    'time': test_data['Date'],  # Utiliser 'Date' pour les horaires\n",
    "    'activity': y_test_pred_labels  # Utiliser les prédictions d'activités inversées\n",
    "})\n",
    "\n",
    "# Sauvegarder les résultats de prédiction dans un fichier CSV\n",
    "predictions.to_csv('predictions.csv', index=False)\n",
    "\n",
    "# Affichage du résultat\n",
    "print(predictions.head())\n",
    "\n",
    "# Fonction pour appliquer l'activité sur les 5 minutes suivantes\n",
    "def propagate_activity(predictions, duration=300):\n",
    "    activities = predictions['activity'].tolist()\n",
    "    times = predictions['time'].tolist()\n",
    "    \n",
    "    # Initialiser la variable pour l'activité en cours et son début\n",
    "    current_activity = None\n",
    "    current_start_idx = None\n",
    "    \n",
    "    # Parcourir les activités\n",
    "    for i in range(len(activities)):\n",
    "        if activities[i] != 'none':  # Nouvelle activité détectée\n",
    "            current_activity = activities[i]\n",
    "            current_start_idx = i  # Index du début de l'activité\n",
    "        \n",
    "        # Appliquer l'activité pour les 5 minutes suivantes\n",
    "        if current_activity and current_start_idx is not None:\n",
    "            time_diff = pd.to_datetime(times[i]) - pd.to_datetime(times[current_start_idx])\n",
    "            if time_diff.total_seconds() < duration:  # Vérifier la limite des 5 minutes\n",
    "                activities[i] = current_activity  # Propager l'activité\n",
    "            else:\n",
    "                current_activity = None  # Réinitialiser si plus de 5 minutes écoulées\n",
    "    \n",
    "    # Mettre à jour les activités dans le DataFrame\n",
    "    predictions['activity'] = activities\n",
    "    return predictions\n",
    "\n",
    "# Appliquer la fonction aux prédictions\n",
    "predictions = propagate_activity(predictions, duration=300)\n",
    "\n",
    "# Afficher les premières lignes pour vérification\n",
    "print(predictions.head())\n",
    "\n",
    "# Supprimer l'index sans le conserver comme colonne\n",
    "predictions = predictions.reset_index(drop=True)\n",
    "\n",
    "#Change le format de la date en heure\n",
    "predictions['time'] = predictions['time'].dt.time\n",
    "print(predictions)\n",
    "\n",
    "#Enregistrer le fichier\n",
    "predictions.to_csv('/Users/ludo/Desktop/2ia-2024-hackathon/predictions.csv', index=False)"
   ]
  },
  {
   "cell_type": "markdown",
   "id": "9bd64c52-3551-48aa-8fe4-fa2421766b5a",
   "metadata": {},
   "source": [
    "pip install imbalanced-learn\n"
   ]
  },
  {
   "cell_type": "markdown",
   "id": "2331e6c8-ae3c-4569-a4c1-2862c1ca3d38",
   "metadata": {},
   "source": [
    "### VI - Régression Linéaire avec SMOTE"
   ]
  },
  {
   "cell_type": "code",
   "execution_count": 134,
   "id": "41c1ed39-d77d-4d69-900f-93f1407e835a",
   "metadata": {},
   "outputs": [
    {
     "name": "stdout",
     "output_type": "stream",
     "text": [
      "                                   time activity\n",
      "Date                                            \n",
      "2024-07-25 07:00:00 2024-07-25 07:00:00        T\n",
      "2024-07-25 07:00:01 2024-07-25 07:00:01        T\n",
      "2024-07-25 07:00:02 2024-07-25 07:00:02        T\n",
      "2024-07-25 07:00:03 2024-07-25 07:00:03        T\n",
      "2024-07-25 07:00:04 2024-07-25 07:00:04        T\n",
      "           time activity\n",
      "0      07:00:00        T\n",
      "1      07:00:01        T\n",
      "2      07:00:02        T\n",
      "3      07:00:03        T\n",
      "4      07:00:04        T\n",
      "...         ...      ...\n",
      "43196  18:59:56     none\n",
      "43197  18:59:57     none\n",
      "43198  18:59:58     none\n",
      "43199  18:59:59     none\n",
      "43200  19:00:00     none\n",
      "\n",
      "[43201 rows x 2 columns]\n"
     ]
    }
   ],
   "source": [
    "from sklearn.model_selection import train_test_split\n",
    "from sklearn.preprocessing import LabelEncoder\n",
    "from sklearn.linear_model import LogisticRegression\n",
    "from imblearn.over_sampling import SMOTE\n",
    "import pandas as pd\n",
    "\n",
    "# Assurez-vous que 'Date' est bien une colonne dans vos données et non un index\n",
    "data['Date'] = data.index\n",
    "\n",
    "# Filtrer les données d'entraînement entre 2024-07-19 20:07:00 et 2024-07-25 06:59:59\n",
    "train_data = data[(data['Date'] >= '2024-07-19 20:07:00') & (data['Date'] <= '2024-07-25 06:59:59')]\n",
    "\n",
    "# Séparer les variables explicatives (features) et la variable cible (target)\n",
    "X_train = train_data[['displacement_x', 'displacement_y']]\n",
    "y_train = train_data['Activity']\n",
    "\n",
    "# Initialiser l'encodeur\n",
    "label_encoder = LabelEncoder()\n",
    "\n",
    "# Encoder les activités (si nécessaire)\n",
    "y_encoded = label_encoder.fit_transform(y_train)\n",
    "\n",
    "# Appliquer SMOTE pour équilibrer les classes\n",
    "smote = SMOTE(random_state=42)\n",
    "X_train_resampled, y_train_resampled = smote.fit_resample(X_train, y_encoded)\n",
    "\n",
    "# Créer le modèle de régression logistique\n",
    "model = LogisticRegression(max_iter=10000)  # Augmenter le nombre d'itérations si nécessaire\n",
    "\n",
    "# Entraîner le modèle avec les données rééchantillonnées\n",
    "model.fit(X_train_resampled, y_train_resampled)\n",
    "\n",
    "# Filtrer les données de test entre 2024-07-25 07:00:00 et 2024-07-25 19:00:00\n",
    "test_data = data[(data['Date'] >= '2024-07-25 07:00:00') & (data['Date'] <= '2024-07-25 19:00:00')]\n",
    "\n",
    "# Préparer les variables explicatives pour la prédiction\n",
    "X_test = test_data[['displacement_x', 'displacement_y']]\n",
    "\n",
    "# Faire les prédictions pour la plage de test\n",
    "y_test_pred = model.predict(X_test)\n",
    "\n",
    "# Convertir les prédictions en labels d'activité\n",
    "y_test_pred_labels = label_encoder.inverse_transform(y_test_pred)\n",
    "\n",
    "# Générer un DataFrame avec les prédictions\n",
    "predictions = pd.DataFrame({\n",
    "    'time': test_data['Date'],  # Utiliser 'Date' pour les horaires\n",
    "    'activity': y_test_pred_labels  # Utiliser les prédictions d'activités inversées\n",
    "})\n",
    "\n",
    "# Affichage du résultat\n",
    "print(predictions.head())\n",
    "\n",
    "# Supprimer l'index sans le conserver comme colonne\n",
    "predictions = predictions.reset_index(drop=True)\n",
    "\n",
    "#Change le format de la date en heure\n",
    "predictions['time'] = predictions['time'].dt.time\n",
    "print(predictions)\n",
    "\n",
    "#Enregistrer le fichier\n",
    "predictions.to_csv('/Users/ludo/Desktop/2ia-2024-hackathon/predictions.csv', index=False)\n"
   ]
  },
  {
   "cell_type": "code",
   "execution_count": null,
   "id": "ef53f9d9-3ccd-4a96-8a2a-00f54d18f0bb",
   "metadata": {},
   "outputs": [],
   "source": []
  }
 ],
 "metadata": {
  "kernelspec": {
   "display_name": "Python 3 (ipykernel)",
   "language": "python",
   "name": "python3"
  },
  "language_info": {
   "codemirror_mode": {
    "name": "ipython",
    "version": 3
   },
   "file_extension": ".py",
   "mimetype": "text/x-python",
   "name": "python",
   "nbconvert_exporter": "python",
   "pygments_lexer": "ipython3",
   "version": "3.12.2"
  }
 },
 "nbformat": 4,
 "nbformat_minor": 5
}
