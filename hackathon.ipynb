{
 "cells": [
  {
   "cell_type": "code",
   "execution_count": 1,
   "id": "9031d38a-f687-4068-8c02-9f204b8732a3",
   "metadata": {},
   "outputs": [
    {
     "name": "stdout",
     "output_type": "stream",
     "text": [
      "           Date    X    Y    Z\n",
      "0  1.721419e+09  -36  284 -232\n",
      "1  1.721419e+09 -224  -92  -60\n",
      "2  1.721419e+09 -236  -96  -64\n",
      "3  1.721419e+09 -240  -96  -72\n",
      "4  1.721419e+09 -252 -108  -80\n",
      "           Date    X    Y   Z\n",
      "0  1.721419e+09  112  232 -96\n",
      "1  1.721419e+09 -240   20  56\n",
      "2  1.721419e+09 -248   20  60\n",
      "3  1.721419e+09 -248   20  56\n",
      "4  1.721419e+09 -252   20  60\n"
     ]
    }
   ],
   "source": [
    "import csv\n",
    "import pandas as pd\n",
    "import numpy as np\n",
    "\n",
    "dataL = pd.read_csv(\"/Users/ludo/Desktop/2ia-2024-hackathon/left_accs.csv\", sep=\",\", header=None)\n",
    "dataL.columns=['Date','X','Y','Z']\n",
    "dataR = pd.read_csv(\"/Users/ludo/Desktop/2ia-2024-hackathon/right_accs.csv\", sep=\",\", header=None)\n",
    "dataR.columns=['Date','X','Y','Z']\n",
    "print(dataL.head(5))\n",
    "print(dataR.head(5))"
   ]
  },
  {
   "cell_type": "code",
   "execution_count": 2,
   "id": "422140b2-251a-4ee7-b5d6-8dc67ff74d4f",
   "metadata": {},
   "outputs": [
    {
     "name": "stderr",
     "output_type": "stream",
     "text": [
      "/var/folders/g8/sp7v241j7198blzszj9tq0x40000gn/T/ipykernel_931/1351229751.py:5: DeprecationWarning: datetime.datetime.utcfromtimestamp() is deprecated and scheduled for removal in a future version. Use timezone-aware objects to represent datetimes in UTC: datetime.datetime.fromtimestamp(timestamp, datetime.UTC).\n",
      "  lambda x: datetime.datetime.utcfromtimestamp(x).strftime('%Y-%m-%d %H:%M:%S')\n",
      "/var/folders/g8/sp7v241j7198blzszj9tq0x40000gn/T/ipykernel_931/1351229751.py:9: DeprecationWarning: datetime.datetime.utcfromtimestamp() is deprecated and scheduled for removal in a future version. Use timezone-aware objects to represent datetimes in UTC: datetime.datetime.fromtimestamp(timestamp, datetime.UTC).\n",
      "  lambda x: datetime.datetime.utcfromtimestamp(x).strftime('%Y-%m-%d %H:%M:%S')\n"
     ]
    }
   ],
   "source": [
    "import datetime\n",
    "import pytz\n",
    "\n",
    "dataL['Date'] = dataL['Date'].apply(\n",
    "    lambda x: datetime.datetime.utcfromtimestamp(x).strftime('%Y-%m-%d %H:%M:%S')\n",
    ")\n",
    "\n",
    "dataR['Date'] = dataR['Date'].apply(\n",
    "    lambda x: datetime.datetime.utcfromtimestamp(x).strftime('%Y-%m-%d %H:%M:%S')\n",
    ")"
   ]
  },
  {
   "cell_type": "code",
   "execution_count": 3,
   "id": "6abd25f9-c37d-44b2-bf46-83276c338539",
   "metadata": {},
   "outputs": [
    {
     "name": "stdout",
     "output_type": "stream",
     "text": [
      "                  Date    X    Y    Z\n",
      "0  2024-07-19 20:00:05  -36  284 -232\n",
      "1  2024-07-19 20:00:05 -224  -92  -60\n",
      "2  2024-07-19 20:00:05 -236  -96  -64\n",
      "3  2024-07-19 20:00:05 -240  -96  -72\n",
      "4  2024-07-19 20:00:05 -252 -108  -80\n",
      "                  Date    X    Y   Z\n",
      "0  2024-07-19 20:00:07  112  232 -96\n",
      "1  2024-07-19 20:00:07 -240   20  56\n",
      "2  2024-07-19 20:00:07 -248   20  60\n",
      "3  2024-07-19 20:00:07 -248   20  56\n",
      "4  2024-07-19 20:00:07 -252   20  60\n"
     ]
    }
   ],
   "source": [
    "print(dataL.head(5))\n",
    "print(dataR.head(5))"
   ]
  },
  {
   "cell_type": "code",
   "execution_count": 20,
   "id": "32f62e79-c134-4b43-bcd5-f9d76918bd09",
   "metadata": {},
   "outputs": [
    {
     "name": "stdout",
     "output_type": "stream",
     "text": [
      "                  Date    X    Y    Z\n",
      "0  2024-07-19 20:00:05  -36  284 -232\n",
      "1  2024-07-19 20:00:05 -224  -92  -60\n",
      "2  2024-07-19 20:00:05 -236  -96  -64\n",
      "3  2024-07-19 20:00:05 -240  -96  -72\n",
      "4  2024-07-19 20:00:05 -252 -108  -80\n",
      "                  Date Activity\n",
      "0  2024-07-19 20:00:05     none\n",
      "1  2024-07-19 20:00:05     none\n",
      "2  2024-07-19 20:00:05     none\n",
      "3  2024-07-19 20:00:05     none\n",
      "4  2024-07-19 20:00:05     none\n"
     ]
    }
   ],
   "source": [
    "dataA=dataL.copy()\n",
    "print(dataA.head(5))\n",
    "\n",
    "dataA=dataA.drop(columns=['X','Y','Z'])\n",
    "\n",
    "dataA['Activity']='none'\n",
    "print(dataA.head(5))"
   ]
  },
  {
   "cell_type": "code",
   "execution_count": 26,
   "id": "b47aa3b5-8c48-471f-88cb-4081b028a286",
   "metadata": {},
   "outputs": [],
   "source": [
    "# Liste des périodes et leurs activités associées\n",
    "periods = [\n",
    "    {'start': '2024-07-19 20:05:00', 'end': '2024-07-19 20:12:00', 'activity': 'S'},\n",
    "    {'start': '2024-07-19 20:38:00', 'end': '2024-07-19 21:05:00', 'activity': 'A'},\n",
    "    {'start': '2024-07-19 21:09:00', 'end': '2024-07-19 21:15:00', 'activity': 'P'},\n",
    "    {'start': '2024-07-20 08:05:00', 'end': '2024-07-20 08:15:00', 'activity': 'T'},\n",
    "    {'start': '2024-07-20 08:45:00', 'end': '2024-07-20 09:15:00', 'activity': 'A'},\n",
    "    {'start': '2024-07-20 09:15:00', 'end': '2024-07-20 10:00:00', 'activity': 'P'},\n",
    "    {'start': '2024-07-20 19:30:00', 'end': '2024-07-20 20:00:00', 'activity': 'T'},\n",
    "    {'start': '2024-07-20 20:00:00', 'end': '2024-07-20 21:40:00', 'activity': 'A'},\n",
    "    {'start': '2024-07-21 09:40:00', 'end': '2024-07-21 10:50:00', 'activity': 'A'},\n",
    "    {'start': '2024-07-21 13:28:00', 'end': '2024-07-21 13:48:00', 'activity': 'A'},\n",
    "    {'start': '2024-07-21 16:45:00', 'end': '2024-07-21 17:15:00', 'activity': 'M'},\n",
    "    {'start': '2024-07-21 17:16:00', 'end': '2024-07-21 17:30:00', 'activity': 'S'},\n",
    "    {'start': '2024-07-21 20:47:00', 'end': '2024-07-21 21:00:00', 'activity': 'A'},\n",
    "    {'start': '2024-07-21 21:01:00', 'end': '2024-07-21 21:05:00', 'activity': 'P'},\n",
    "    {'start': '2024-07-22 07:44:00', 'end': '2024-07-22 08:03:00', 'activity': 'A'},\n",
    "    {'start': '2024-07-22 13:35:00', 'end': '2024-07-22 14:24:00', 'activity': 'A'},\n",
    "    {'start': '2024-07-22 14:25:00', 'end': '2024-07-22 14:30:00', 'activity': 'P'},\n",
    "    {'start': '2024-07-23 07:15:00', 'end': '2024-07-23 07:20:00', 'activity': 'T'},\n",
    "    {'start': '2024-07-23 07:20:00', 'end': '2024-07-23 07:30:00', 'activity': 'S'},\n",
    "    {'start': '2024-07-23 07:40:00', 'end': '2024-07-23 08:15:00', 'activity': 'A'},\n",
    "    {'start': '2024-07-23 13:15:00', 'end': '2024-07-23 14:00:00', 'activity': 'A'},\n",
    "    {'start': '2024-07-24 07:36:00', 'end': '2024-07-24 07:41:00', 'activity': 'T'},\n",
    "    {'start': '2024-07-24 07:41:00', 'end': '2024-07-24 07:44:00', 'activity': 'S'},\n",
    "    {'start': '2024-07-24 07:45:00', 'end': '2024-07-24 08:18:00', 'activity': 'A'},\n",
    "    {'start': '2024-07-24 08:19:00', 'end': '2024-07-24 08:31:00', 'activity': 'P'},\n",
    "    {'start': '2024-07-24 16:40:00', 'end': '2024-07-24 18:10:00', 'activity': 'kiné'},\n",
    "    {'start': '2024-07-24 20:02:00', 'end': '2024-07-24 20:07:00', 'activity': 'P'},\n",
    "    {'start': '2024-07-24 20:07:00', 'end': '2024-07-24 20:39:00', 'activity': 'A'},\n",
    "    {'start': '2024-07-24 20:39:00', 'end': '2024-07-24 20:44:00', 'activity': 'P'}  \n",
    "]\n",
    "\n",
    "\n",
    "# Appliquer les modifications\n",
    "for period in periods:\n",
    "    dataA.loc[(dataA['Date'] >= period['start']) & (dataA['Date'] <= period['end']), 'Activity'] = period['activity']"
   ]
  },
  {
   "cell_type": "code",
   "execution_count": 32,
   "id": "b1cb0b0c-d4b4-44d5-98a8-19f753a58cb1",
   "metadata": {},
   "outputs": [
    {
     "name": "stdout",
     "output_type": "stream",
     "text": [
      "                      Date Activity\n",
      "14899  2024-07-19 20:05:00        S\n",
      "14900  2024-07-19 20:05:00        S\n",
      "14901  2024-07-19 20:05:00        S\n",
      "14902  2024-07-19 20:05:00        S\n",
      "14903  2024-07-19 20:05:00        S\n",
      "...                    ...      ...\n",
      "36168  2024-07-19 20:12:00        S\n",
      "36169  2024-07-19 20:12:00        S\n",
      "36170  2024-07-19 20:12:00        S\n",
      "36171  2024-07-19 20:12:00        S\n",
      "36172  2024-07-19 20:12:00        S\n",
      "\n",
      "[21274 rows x 2 columns]\n"
     ]
    }
   ],
   "source": [
    "# Définir une plage de dates pour inclure des valeurs proches\n",
    "start_date = '2024-07-19 20:05:00'\n",
    "end_date = '2024-07-19 20:12:00'\n",
    "\n",
    "# Filtrer avec une plage\n",
    "filtered_data = dataA[(dataA['Date'] >= start_date) & (dataA['Date'] <= end_date)]\n",
    "print(filtered_data)"
   ]
  },
  {
   "cell_type": "code",
   "execution_count": 27,
   "id": "a6eed439-7af8-460e-b1fa-b375916e296d",
   "metadata": {},
   "outputs": [
    {
     "name": "stdout",
     "output_type": "stream",
     "text": [
      "                         Date Activity\n",
      "0         2024-07-19 20:00:05     none\n",
      "1         2024-07-19 20:00:05     none\n",
      "2         2024-07-19 20:00:05     none\n",
      "3         2024-07-19 20:00:05     none\n",
      "4         2024-07-19 20:00:05     none\n",
      "...                       ...      ...\n",
      "32789515  2024-07-27 08:00:01     none\n",
      "32789516  2024-07-27 08:00:01     none\n",
      "32789517  2024-07-27 08:00:01     none\n",
      "32789518  2024-07-27 08:00:01     none\n",
      "32789519  2024-07-27 08:00:01     none\n",
      "\n",
      "[32789520 rows x 2 columns]\n"
     ]
    }
   ],
   "source": [
    "print(dataA)"
   ]
  },
  {
   "cell_type": "code",
   "execution_count": 36,
   "id": "7a1339a1-4612-4c95-bebc-aa1fba7a9beb",
   "metadata": {},
   "outputs": [],
   "source": [
    "dataA.to_csv('/Users/ludo/Desktop/2ia-2024-hackathon/dataActivity.csv',index=True)"
   ]
  },
  {
   "cell_type": "code",
   "execution_count": null,
   "id": "84f349e6-0e15-437a-aa6b-5be3ee550d0f",
   "metadata": {},
   "outputs": [],
   "source": []
  }
 ],
 "metadata": {
  "kernelspec": {
   "display_name": "Python 3 (ipykernel)",
   "language": "python",
   "name": "python3"
  },
  "language_info": {
   "codemirror_mode": {
    "name": "ipython",
    "version": 3
   },
   "file_extension": ".py",
   "mimetype": "text/x-python",
   "name": "python",
   "nbconvert_exporter": "python",
   "pygments_lexer": "ipython3",
   "version": "3.12.2"
  }
 },
 "nbformat": 4,
 "nbformat_minor": 5
}
